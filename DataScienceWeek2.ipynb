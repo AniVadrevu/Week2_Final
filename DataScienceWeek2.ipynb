{
 "cells": [
  {
   "cell_type": "markdown",
   "id": "a0334380",
   "metadata": {},
   "source": [
    "# Data Science Tools and Ecosystem"
   ]
  },
  {
   "cell_type": "markdown",
   "id": "945234f4",
   "metadata": {},
   "source": [
    "In this notebook, Data Science Tools and Ecosystem are summarized."
   ]
  },
  {
   "cell_type": "markdown",
   "id": "d487a4dc",
   "metadata": {},
   "source": [
    "Some of the popular languages that Data Scientists use are:"
   ]
  },
  {
   "cell_type": "markdown",
   "id": "1d53f2c2",
   "metadata": {},
   "source": [
    "1. Python\n",
    "2. Java\n",
    "3. Javascript"
   ]
  },
  {
   "cell_type": "markdown",
   "id": "719d2889",
   "metadata": {},
   "source": [
    "Some of the commonly used libraries used by Data Scientists include:"
   ]
  },
  {
   "cell_type": "markdown",
   "id": "b4a891ad",
   "metadata": {},
   "source": [
    "1. Pandas\n",
    "2. Numpy\n",
    "3. sklearn"
   ]
  },
  {
   "cell_type": "markdown",
   "id": "689c48bd",
   "metadata": {},
   "source": [
    "## Data Science Tools"
   ]
  },
  {
   "cell_type": "markdown",
   "id": "76b060c8",
   "metadata": {},
   "source": [
    "| RStudio | Apache Spark | TensorFlow |\n",
    "| --- | --- | --- |\n",
    "|  |  |  |"
   ]
  },
  {
   "cell_type": "markdown",
   "id": "3dee0a81",
   "metadata": {},
   "source": [
    "### Below are a few examples of evaluating arithmetic expressions in Python"
   ]
  },
  {
   "cell_type": "code",
   "execution_count": 4,
   "id": "231df928",
   "metadata": {},
   "outputs": [
    {
     "data": {
      "text/plain": [
       "17"
      ]
     },
     "execution_count": 4,
     "metadata": {},
     "output_type": "execute_result"
    }
   ],
   "source": [
    "(3*4)+5\n",
    "# This a simple arithmetic expression to mutiply then add integers"
   ]
  },
  {
   "cell_type": "code",
   "execution_count": 28,
   "id": "6df47f60",
   "metadata": {},
   "outputs": [
    {
     "name": "stdout",
     "output_type": "stream",
     "text": [
      "It has been 3 hours and 20 Minutes\n"
     ]
    }
   ],
   "source": [
    "# This will convert 200 minutes to hours by diving by 60\n",
    "totalminutes = 200\n",
    "hourmin = 60\n",
    "hours = totalminutes // hourmin\n",
    "rem_min = minutes % hour\n",
    "print (\"It has been \" + str(hours) + \" hours and \"+ str(rem_min) + \" Minutes\")"
   ]
  },
  {
   "cell_type": "markdown",
   "id": "bbc74c8a",
   "metadata": {},
   "source": [
    "<b> Objectives: <b> \n",
    "     "
   ]
  },
  {
   "cell_type": "markdown",
   "id": "872f202e",
   "metadata": {},
   "source": [
    " - List popular libraries used by Data Scientists\n",
    " - Evaluate arithmetic expressions\n",
    " - List popular languages used by data scientists"
   ]
  },
  {
   "cell_type": "markdown",
   "id": "8aa4f323",
   "metadata": {},
   "source": [
    "## Author\n",
    "Anirudh Vadrevu"
   ]
  }
 ],
 "metadata": {
  "kernelspec": {
   "display_name": "Python 3 (ipykernel)",
   "language": "python",
   "name": "python3"
  },
  "language_info": {
   "codemirror_mode": {
    "name": "ipython",
    "version": 3
   },
   "file_extension": ".py",
   "mimetype": "text/x-python",
   "name": "python",
   "nbconvert_exporter": "python",
   "pygments_lexer": "ipython3",
   "version": "3.10.9"
  }
 },
 "nbformat": 4,
 "nbformat_minor": 5
}
